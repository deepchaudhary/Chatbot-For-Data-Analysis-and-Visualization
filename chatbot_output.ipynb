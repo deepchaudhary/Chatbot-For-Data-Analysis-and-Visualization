{
  "nbformat": 4,
  "nbformat_minor": 0,
  "metadata": {
    "colab": {
      "name": "chatbot_output.ipynb",
      "provenance": [],
      "collapsed_sections": []
    },
    "kernelspec": {
      "name": "python3",
      "display_name": "Python 3"
    }
  },
  "cells": [
    {
      "cell_type": "code",
      "metadata": {
        "id": "5LI7ErxRhJxk",
        "colab_type": "code",
        "colab": {}
      },
      "source": [
        "import os\n",
        "import random\n",
        "import numpy as np\n",
        "import pandas as pd\n",
        "import matplotlib as plt"
      ],
      "execution_count": 60,
      "outputs": []
    },
    {
      "cell_type": "code",
      "metadata": {
        "id": "fmEG-0hMh7Pg",
        "colab_type": "code",
        "colab": {}
      },
      "source": [
        "import json\n",
        "import pickle\n",
        "from keras.models import load_model"
      ],
      "execution_count": 61,
      "outputs": []
    },
    {
      "cell_type": "code",
      "metadata": {
        "id": "mA952bLpbrWb",
        "colab_type": "code",
        "colab": {
          "base_uri": "https://localhost:8080/",
          "height": 85
        },
        "outputId": "0261d610-5cf5-4b0d-cec9-0bf8ff1362c0"
      },
      "source": [
        "import nltk\n",
        "nltk.download('punkt')\n",
        "nltk.download('wordnet')\n",
        "from nltk.stem import WordNetLemmatizer\n",
        "lemmatizer = WordNetLemmatizer()"
      ],
      "execution_count": 62,
      "outputs": [
        {
          "output_type": "stream",
          "text": [
            "[nltk_data] Downloading package punkt to /root/nltk_data...\n",
            "[nltk_data]   Package punkt is already up-to-date!\n",
            "[nltk_data] Downloading package wordnet to /root/nltk_data...\n",
            "[nltk_data]   Package wordnet is already up-to-date!\n"
          ],
          "name": "stdout"
        }
      ]
    },
    {
      "cell_type": "code",
      "metadata": {
        "id": "Nc8IIUNpiLHH",
        "colab_type": "code",
        "colab": {}
      },
      "source": [
        "intents = json.loads(open(r'dashboard.json').read())\n",
        "words = pickle.load(open(r'words.pkl','rb'))\n",
        "classes = pickle.load(open(r'classes.pkl','rb'))"
      ],
      "execution_count": 63,
      "outputs": []
    },
    {
      "cell_type": "code",
      "metadata": {
        "id": "pSOEDIwqqQj2",
        "colab_type": "code",
        "colab": {}
      },
      "source": [
        "model = load_model(r'chatbot_model.h5')"
      ],
      "execution_count": 64,
      "outputs": []
    },
    {
      "cell_type": "code",
      "metadata": {
        "id": "xYDHo14IlT0X",
        "colab_type": "code",
        "colab": {}
      },
      "source": [
        "def clean_up_sentence(sentence):\n",
        "  sentence_words = nltk.word_tokenize(sentence)\n",
        "  sentence_words = [lemmatizer.lemmatize(word.lower()) for word in sentence_words]\n",
        "  return sentence_words"
      ],
      "execution_count": 65,
      "outputs": []
    },
    {
      "cell_type": "code",
      "metadata": {
        "id": "fP1nhaZnlGS3",
        "colab_type": "code",
        "colab": {}
      },
      "source": [
        "def bow(sentence, words, show_details=True):\n",
        "  sentence_words = clean_up_sentence(sentence)\n",
        "  bag = [0]*len(words)  \n",
        "  for s in sentence_words:\n",
        "      for i,w in enumerate(words):\n",
        "          if w == s: \n",
        "              bag[i] = 1\n",
        "              if show_details:\n",
        "                  print(\"found in bag: %s\" % w)\n",
        "  return(np.array(bag))"
      ],
      "execution_count": 66,
      "outputs": []
    },
    {
      "cell_type": "code",
      "metadata": {
        "id": "ocA38o5Xkvsg",
        "colab_type": "code",
        "colab": {}
      },
      "source": [
        "def predict_class(sentence, model):\n",
        "  p = bow(sentence, words,show_details=False)\n",
        "  res = model.predict(np.array([p]))[0]\n",
        "  ERROR_THRESHOLD = 0.25\n",
        "  results = [[i,r] for i,r in enumerate(res) if r>ERROR_THRESHOLD]\n",
        "  results.sort(key=lambda x: x[1], reverse=True)\n",
        "  return_list = []\n",
        "  for r in results:\n",
        "      return_list.append({\"intent\": classes[r[0]], \"probability\": str(r[1])})\n",
        "  return return_list\n"
      ],
      "execution_count": 67,
      "outputs": []
    },
    {
      "cell_type": "code",
      "metadata": {
        "id": "7Ed7oodzmtdX",
        "colab_type": "code",
        "colab": {}
      },
      "source": [
        "df = pd.read_excel(r'Agg_retail_realtime.xlsx')"
      ],
      "execution_count": 68,
      "outputs": []
    },
    {
      "cell_type": "code",
      "metadata": {
        "id": "_iY5hUCspGEu",
        "colab_type": "code",
        "colab": {}
      },
      "source": [
        "def shape():\n",
        "  print(df.shape[0],df.shape[1])"
      ],
      "execution_count": 69,
      "outputs": []
    },
    {
      "cell_type": "code",
      "metadata": {
        "id": "aXSop-1YrOdH",
        "colab_type": "code",
        "colab": {}
      },
      "source": [
        "def summary():\n",
        "  x=df.describe\n",
        "  print(x)"
      ],
      "execution_count": 70,
      "outputs": []
    },
    {
      "cell_type": "code",
      "metadata": {
        "id": "A6qgC25sz6i0",
        "colab_type": "code",
        "colab": {}
      },
      "source": [
        "def columns():\n",
        "  print(df.columns)"
      ],
      "execution_count": 71,
      "outputs": []
    },
    {
      "cell_type": "code",
      "metadata": {
        "id": "XuK8PQzN0p5l",
        "colab_type": "code",
        "colab": {}
      },
      "source": [
        "def topdealers():\n",
        "    top_dealers=df.groupby('CUSTOMER_NAME')['TOTAL_RETAIL'].sum().sort_values(ascending=False)[:5][::-1]\n",
        "    response=top_dealers.index.values\n",
        "    print(response)"
      ],
      "execution_count": 72,
      "outputs": []
    },
    {
      "cell_type": "code",
      "metadata": {
        "id": "3CjnMktO07-E",
        "colab_type": "code",
        "colab": {}
      },
      "source": [
        "def options():\n",
        "  s='Try asking me:\\n\\\n",
        "  Columns or attributes of the dataset \\n\\\n",
        "  Shape and size of dataset \\n\\\n",
        "  Summary about the dataset \\n\\\n",
        "  Plot a line graph \\n\\\n",
        "  details about dataset \\n\\n'\n",
        "  print(s)"
      ],
      "execution_count": 73,
      "outputs": []
    },
    {
      "cell_type": "code",
      "metadata": {
        "id": "6Qi9MP8js8Cy",
        "colab_type": "code",
        "colab": {}
      },
      "source": [
        "def drawline():\n",
        "  print('Choose X and Y from columns below')\n",
        "  numerical_columns=df.apply(lambda s: pd.to_numeric(s, errors='coerce').notnull().all())\n",
        "  for items in numerical_columns.iteritems(): \n",
        "    if items[1]==True:\n",
        "      print(items[0])\n",
        "  print('Input X')\n",
        "  X=input()\n",
        "  print('Input Y')\n",
        "  Y=input()\n",
        "  df.plot(X,Y)"
      ],
      "execution_count": 74,
      "outputs": []
    },
    {
      "cell_type": "code",
      "metadata": {
        "id": "NukOPBXcyrxT",
        "colab_type": "code",
        "colab": {}
      },
      "source": [
        "def getResponse(ints, intents_json):\n",
        "  tag = ints[0]['intent']\n",
        "  list_of_intents = intents_json['intents']\n",
        "  for i in list_of_intents:\n",
        "      if(i['tag']== tag):\n",
        "          result = random.choice(i['responses'])\n",
        "          break\n",
        "  return result"
      ],
      "execution_count": 75,
      "outputs": []
    },
    {
      "cell_type": "code",
      "metadata": {
        "id": "FCAyJR4hySIT",
        "colab_type": "code",
        "colab": {}
      },
      "source": [
        "def chatbot_response(msg):\n",
        "  ints = predict_class(msg, model)\n",
        "  res = getResponse(ints, intents)\n",
        "  return res"
      ],
      "execution_count": 76,
      "outputs": []
    },
    {
      "cell_type": "code",
      "metadata": {
        "id": "cQ8mHEy6kbvr",
        "colab_type": "code",
        "colab": {}
      },
      "source": [
        "def process(msg):\n",
        "  ints = predict_class(msg, model)\n",
        "  tag = ints[0]['intent']\n",
        "  if tag=='Top_dealers':\n",
        "      topdealers()\n",
        "  elif tag=='shape':\n",
        "      shape()\n",
        "  elif tag=='columns':\n",
        "      columns()\n",
        "  elif tag=='lineplot':\n",
        "      drawline()\n",
        "  elif tag=='options':\n",
        "      options()\n",
        "  elif tag=='summary':\n",
        "      summary()"
      ],
      "execution_count": 77,
      "outputs": []
    },
    {
      "cell_type": "code",
      "metadata": {
        "id": "I_RFqCF_kGOZ",
        "colab_type": "code",
        "colab": {}
      },
      "source": [
        "def input_value():\n",
        "  msg=input()\n",
        "  print(chatbot_response(msg))\n",
        "  process(msg)"
      ],
      "execution_count": 78,
      "outputs": []
    },
    {
      "cell_type": "code",
      "metadata": {
        "id": "kRHV8uOBqhV_",
        "colab_type": "code",
        "colab": {
          "base_uri": "https://localhost:8080/",
          "height": 501
        },
        "outputId": "dce599ce-4cc0-4090-f92c-4e73ec9f3b4b"
      },
      "source": [
        "input_value()"
      ],
      "execution_count": 80,
      "outputs": [
        {
          "output_type": "stream",
          "text": [
            "plot a line graph\n",
            "Line plot opened in a new window:\n",
            "Choose X and Y from columns below\n",
            "MTD_RETAIL\n",
            "LIVE_RETAIL\n",
            "LIVE_RETAIL_REVERSAL\n",
            "NET_LIVE_RETAIL\n",
            "TOTAL_RETAIL\n",
            "ORG_ID\n",
            "Input X\n",
            "NET_LIVE_RETAIL\n",
            "Input Y\n",
            "TOTAL_RETAIL\n"
          ],
          "name": "stdout"
        },
        {
          "output_type": "display_data",
          "data": {
            "image/png": "[encoded data removed]",
            "text/plain": [
              "<Figure size 432x288 with 1 Axes>"
            ]
          },
          "metadata": {
            "tags": [],
            "needs_background": "light"
          }
        }
      ]
    },
    {
      "cell_type": "code",
      "metadata": {
        "id": "1UaHj_yhwjIh",
        "colab_type": "code",
        "colab": {}
      },
      "source": [
        ""
      ],
      "execution_count": null,
      "outputs": []
    }
  ]
}